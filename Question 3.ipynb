{
 "cells": [
  {
   "cell_type": "code",
   "execution_count": 2,
   "id": "a1991fe5",
   "metadata": {},
   "outputs": [
    {
     "name": "stdout",
     "output_type": "stream",
     "text": [
      "Area of triangle(2,2,2): 1.7320508075688772\r\n"
     ]
    }
   ],
   "source": [
    "// For triangle(a, b, c), Area of Triangle is Square root of (s(s-a)(s-b)(s-c)), where s = (a+b+c)/2\n",
    "\n",
    "double a = 2;\n",
    "double b = 2;\n",
    "double c = 2;\n",
    "\n",
    "var s = (a + b + c)/2;\n",
    "var area = Math.Sqrt(s * (s-a) * (s-b) * (s-c));\n",
    "Console.WriteLine(\"Area of triangle(2,2,2): \" + area);"
   ]
  },
  {
   "cell_type": "code",
   "execution_count": null,
   "id": "974afdfb",
   "metadata": {},
   "outputs": [],
   "source": []
  }
 ],
 "metadata": {
  "kernelspec": {
   "display_name": ".NET (C#)",
   "language": "C#",
   "name": ".net-csharp"
  },
  "language_info": {
   "file_extension": ".cs",
   "mimetype": "text/x-csharp",
   "name": "C#",
   "pygments_lexer": "csharp",
   "version": "8.0"
  }
 },
 "nbformat": 4,
 "nbformat_minor": 5
}
