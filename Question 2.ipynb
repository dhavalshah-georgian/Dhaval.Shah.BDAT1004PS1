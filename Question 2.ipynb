{
 "cells": [
  {
   "cell_type": "code",
   "execution_count": 1,
   "id": "05e2f3bf",
   "metadata": {},
   "outputs": [
    {
     "name": "stdout",
     "output_type": "stream",
     "text": [
      "34\n",
      "\n",
      "18\n",
      "\n",
      "34\n",
      "27\n",
      "34\n",
      "Bartok, Bellini, Berlioz, Bernstein, Borodin, Brian, Buxtehude\n"
     ]
    }
   ],
   "source": [
    "// a\n",
    "string str = \"Supercalifragilisticexpialidocious\";\n",
    "Console.WriteLine(str.ToCharArray().Count()); // Count = 34\n",
    "\n",
    "// ----------------------------------------------------------------------------------\n",
    "// b\n",
    "string mainStr = \"Supercalifragilisticexpialidocious\";\n",
    "string subStr = \"ice\";\n",
    "\n",
    "Console.WriteLine();\n",
    "Console.WriteLine(mainStr.IndexOf(subStr)); // Staring 18th Index subStr available.\n",
    "\n",
    "// ----------------------------------------------------------------------------------\n",
    "//c\n",
    "string x = \"Supercalifragilisticexpialidocious\";\n",
    "string y = \"Honorificabilitudinitatibus\";\n",
    "string z = \"Bababadalgharaghtakamminarronnkonn\";\n",
    "\n",
    "// biggest number of char count is longest word\n",
    "Console.WriteLine();\n",
    "Console.WriteLine(x.ToCharArray().Count()); // 34\n",
    "Console.WriteLine(y.ToCharArray().Count()); // 27\n",
    "Console.WriteLine(z.ToCharArray().Count()); // 34\n",
    "\n",
    "// string x and z both has 34 charachers, So both are longest words\n",
    "// Ans is Supercalifragilisticexpialidocious and Bababadalgharaghtakamminarronnkonn\n",
    "\n",
    "// ----------------------------------------------------------------------------------\n",
    "// d\n",
    "List<string> arr = new List<string>() { \"Berlioz\", \"Borodin\", \"Brian\", \"Bartok\", \"Bellini\", \"Buxtehude\", \"Bernstein\" };\n",
    "List<string> sortedArr = arr.OrderBy(x => x).ToList();\n",
    "Console.WriteLine(String.Join(\", \", sortedArr.ToArray()));\n",
    "// in Sorted list = Bartok, Bellini, Berlioz, Bernstein, Borodin, Brian, Buxtehude\n",
    "// So, Bartok will comes first in the dictionary and Buxtehude will last in this list"
   ]
  },
  {
   "cell_type": "code",
   "execution_count": null,
   "id": "65a8427c",
   "metadata": {},
   "outputs": [],
   "source": []
  }
 ],
 "metadata": {
  "kernelspec": {
   "display_name": ".NET (C#)",
   "language": "C#",
   "name": ".net-csharp"
  },
  "language_info": {
   "file_extension": ".cs",
   "mimetype": "text/x-csharp",
   "name": "C#",
   "pygments_lexer": "csharp",
   "version": "8.0"
  }
 },
 "nbformat": 4,
 "nbformat_minor": 5
}
