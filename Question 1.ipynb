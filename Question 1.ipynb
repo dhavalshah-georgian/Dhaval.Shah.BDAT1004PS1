{
 "cells": [
  {
   "cell_type": "code",
   "execution_count": 1,
   "id": "6f804d83",
   "metadata": {},
   "outputs": [
    {
     "name": "stdout",
     "output_type": "stream",
     "text": [
      "System.Int32\n",
      "System.Double\n",
      "System.Boolean\n",
      "System.Char\n",
      "System.Int32\n",
      "System.Int32\n",
      "System.Int32\n",
      "System.Int32\n",
      "System.Int32\n",
      "System.Int32[]\n",
      "System.Boolean\n",
      "System.Double\n"
     ]
    }
   ],
   "source": [
    "var a = 5;\n",
    "Console.WriteLine(a.GetType()); // System.Int32\n",
    "\n",
    "var b = 5.0;\n",
    "Console.WriteLine(b.GetType()); // System.Double\n",
    "\n",
    "var c = 5 > 1;\n",
    "Console.WriteLine(c.GetType()); // System.Boolean\n",
    "\n",
    "var d = '5';\n",
    "Console.WriteLine(d.GetType()); // System.Char\n",
    "\n",
    "var e = 5 * 2;\n",
    "Console.WriteLine(e.GetType()); // System.Int32\n",
    "\n",
    "var f = '5' * 2;\n",
    "Console.WriteLine(f.GetType()); // System.Int32\n",
    "\n",
    "var g = '5' + '2';\n",
    "Console.WriteLine(g.GetType()); // System.Int32\n",
    "\n",
    "var h = 5 / 2;\n",
    "Console.WriteLine(h.GetType()); // System.Int32\n",
    "\n",
    "var i = 5 % 2;\n",
    "Console.WriteLine(i.GetType()); // System.Int32\n",
    "\n",
    "var j = new [] {5, 2, 1};\n",
    "Console.WriteLine(j.GetType()); // System.Int32[]\n",
    "\n",
    "var k = 5 == 3;\n",
    "Console.WriteLine(k.GetType()); // System.Boolean\n",
    "\n",
    "var l = 3.14;\n",
    "Console.WriteLine(l.GetType()); // System.Double"
   ]
  },
  {
   "cell_type": "code",
   "execution_count": null,
   "id": "fe84f5e1",
   "metadata": {},
   "outputs": [],
   "source": []
  }
 ],
 "metadata": {
  "kernelspec": {
   "display_name": ".NET (C#)",
   "language": "C#",
   "name": ".net-csharp"
  },
  "language_info": {
   "file_extension": ".cs",
   "mimetype": "text/x-csharp",
   "name": "C#",
   "pygments_lexer": "csharp",
   "version": "8.0"
  }
 },
 "nbformat": 4,
 "nbformat_minor": 5
}
