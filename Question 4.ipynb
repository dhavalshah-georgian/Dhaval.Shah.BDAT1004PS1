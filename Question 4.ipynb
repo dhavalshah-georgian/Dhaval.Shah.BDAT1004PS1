{
 "cells": [
  {
   "cell_type": "code",
   "execution_count": 1,
   "id": "e898203a",
   "metadata": {},
   "outputs": [
    {
     "name": "stdout",
     "output_type": "stream",
     "text": [
      "Main array: 25, 47, 42, 56, 32\n",
      "Array of even integers: 42, 56, 32\n",
      "Array of odd integers: 25, 47\n"
     ]
    }
   ],
   "source": [
    "List<int> mainArr = new List<int>() {25, 47, 42, 56, 32};\n",
    "List<int> oddArr = new List<int>();\n",
    "List<int> evenArr = new List<int>();\n",
    "foreach(int i in mainArr) {\n",
    "    if (i % 2 == 0) {\n",
    "        evenArr.Add(i);\n",
    "    } else {\n",
    "        oddArr.Add(i);\n",
    "    }\n",
    "}\n",
    "\n",
    "Console.WriteLine(\"Main array: \" + String.Join(\", \", mainArr.ToArray()));\n",
    "Console.WriteLine(\"Array of even integers: \" + String.Join(\", \", evenArr.ToArray()));\n",
    "Console.WriteLine(\"Array of odd integers: \" + String.Join(\", \", oddArr.ToArray()));"
   ]
  },
  {
   "cell_type": "code",
   "execution_count": null,
   "id": "7dd318de",
   "metadata": {},
   "outputs": [],
   "source": []
  }
 ],
 "metadata": {
  "kernelspec": {
   "display_name": ".NET (C#)",
   "language": "C#",
   "name": ".net-csharp"
  },
  "language_info": {
   "file_extension": ".cs",
   "mimetype": "text/x-csharp",
   "name": "C#",
   "pygments_lexer": "csharp",
   "version": "8.0"
  }
 },
 "nbformat": 4,
 "nbformat_minor": 5
}
